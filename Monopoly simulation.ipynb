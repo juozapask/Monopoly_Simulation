{
 "cells": [
  {
   "cell_type": "code",
   "execution_count": 153,
   "id": "f9fea356",
   "metadata": {},
   "outputs": [
    {
     "name": "stdout",
     "output_type": "stream",
     "text": [
      "[(6, 6.14), (24, 6.14), (1, 5.26), (2, 5.26), (99, 4.39), (5, 4.39), (8, 4.39), (26, 4.39), (34, 4.39), (14, 3.51), (18, 3.51), (11, 3.51), (3, 3.51), (23, 2.63), (15, 2.63), (33, 2.63), (37, 2.63), (16, 2.63), (20, 2.63), (25, 2.63), (22, 2.63), (28, 1.75), (21, 1.75), (31, 1.75), (19, 1.75), (12, 1.75), (38, 1.75), (10, 1.75), (36, 0.88), (27, 0.88), (35, 0.88), (13, 0.88), (29, 0.88), (17, 0.88), (9, 0.88), (4, 0.88), (32, 0.88)]\n",
      "runtime: 412.08044600486755\n"
     ]
    }
   ],
   "source": [
    "import random\n",
    "from collections import Counter, OrderedDict\n",
    "import time\n",
    "\n",
    "def main(N):\n",
    "    #Start Timer\n",
    "    start_time = time.time()\n",
    "    #Simulation\n",
    "    monopoly(N)\n",
    "    #Stop Timer\n",
    "    end_time = time.time()\n",
    "    runtime = end_time - start_time\n",
    "    #Print timer\n",
    "    print(f'runtime: {runtime}')\n",
    "\n",
    "def monopoly(N):\n",
    "    for games in range(N): #Simulate N games\n",
    "        total_moved = 0\n",
    "        player_spaces = []\n",
    "        for rolls in range(100):\n",
    "            rollSum()\n",
    "            total_moved = total_moved + rollSum()\n",
    "            if roll1==roll2:\n",
    "                rollSum()\n",
    "                if roll1==roll2: #speeding\n",
    "                    rollSum()\n",
    "                    total_moved = 99 ## Jail\n",
    "                    player_spaces.append(total_moved)\n",
    "                    continue\n",
    "            if total_moved == 99:\n",
    "                player_spaces.append(total_moved)\n",
    "                total_moved = 10 #leave jail after turn\n",
    "                continue\n",
    "            if total_moved >= 40:\n",
    "                total_moved -= 40\n",
    "                player_spaces.append(total_moved)\n",
    "            if total_moved == 30:\n",
    "                total_moved = 99 ## Jail\n",
    "                player_spaces.append(total_moved)\n",
    "                total_moved = 10\n",
    "                continue\n",
    "            else:\n",
    "                player_spaces.append(total_moved)\n",
    "        moves_counter = Counter(spaces for spaces in player_spaces)\n",
    "        ordered_moves_counter = OrderedDict(moves_counter.most_common())\n",
    "        counts_moves = [(moves, ordered_moves_counter[moves] / len(player_spaces) * 100 ) for moves in ordered_moves_counter]\n",
    "        rounded_list = [(x[0], round(x[1], 2)) for x in counts_moves]\n",
    "    print(rounded_list)\n",
    "\n",
    "def rollSum():\n",
    "    return int(roll1()+roll2())\n",
    "\n",
    "def roll1():\n",
    "    return random.randint(1,6)\n",
    "\n",
    "def roll2():\n",
    "    return random.randint(1,6)\n",
    "\n",
    "main(1000000) #Million games"
   ]
  }
 ],
 "metadata": {
  "kernelspec": {
   "display_name": "Python 3 (ipykernel)",
   "language": "python",
   "name": "python3"
  },
  "language_info": {
   "codemirror_mode": {
    "name": "ipython",
    "version": 3
   },
   "file_extension": ".py",
   "mimetype": "text/x-python",
   "name": "python",
   "nbconvert_exporter": "python",
   "pygments_lexer": "ipython3",
   "version": "3.9.7"
  }
 },
 "nbformat": 4,
 "nbformat_minor": 5
}
